{
 "metadata": {
  "language_info": {
   "codemirror_mode": {
    "name": "ipython",
    "version": 3
   },
   "file_extension": ".py",
   "mimetype": "text/x-python",
   "name": "python",
   "nbconvert_exporter": "python",
   "pygments_lexer": "ipython3",
   "version": "3.7.10"
  },
  "orig_nbformat": 4,
  "kernelspec": {
   "name": "python3",
   "display_name": "Python 3.7.10 64-bit ('yolo': conda)"
  },
  "interpreter": {
   "hash": "9aea355d60355bcd4516df813f53a1f0ed2194fb8179657de875d9bc677f39f2"
  }
 },
 "nbformat": 4,
 "nbformat_minor": 2,
 "cells": [
  {
   "cell_type": "code",
   "execution_count": 1,
   "source": [
    "import numpy as np\n",
    "import cv2 as cv\n",
    "import os\n",
    "from scipy import ndimage\n",
    "from scipy.spatial import distance\n",
    "from sklearn.cluster import KMeans\n",
    "from tqdm import tqdm\n"
   ],
   "outputs": [],
   "metadata": {}
  },
  {
   "cell_type": "code",
   "execution_count": 2,
   "source": [
    "def load_images_from_folder(folder):\n",
    "    images = {}\n",
    "    for filename in tqdm(os.listdir(folder)):\n",
    "        category = []\n",
    "        path = folder + \"/\" + filename\n",
    "        for cat in os.listdir(path):\n",
    "            img = cv.resize(cv.imread(path + \"/\" + cat,0), (500,500))\n",
    "            if img is not None:\n",
    "                category.append(img)\n",
    "        images[filename] = category\n",
    "    return images\n",
    "\n",
    "images_dict = load_images_from_folder('data/database')"
   ],
   "outputs": [
    {
     "output_type": "stream",
     "name": "stderr",
     "text": [
      "100%|██████████| 50/50 [00:02<00:00, 19.40it/s]\n"
     ]
    }
   ],
   "metadata": {}
  },
  {
   "cell_type": "code",
   "execution_count": 3,
   "source": [
    "sift = cv.SIFT_create()  \n",
    "\n",
    "vocab = {}\n",
    "descriptors = []\n",
    "for label, images in tqdm(images_dict.items()):\n",
    "    if label not in vocab.keys():\n",
    "        vocab[label] = []\n",
    "    for image in images:\n",
    "        _,desc = sift.detectAndCompute(image, None)\n",
    "        vocab[label].append(desc)\n",
    "        descriptors.extend(desc)"
   ],
   "outputs": [
    {
     "output_type": "stream",
     "name": "stderr",
     "text": [
      "100%|██████████| 50/50 [00:22<00:00,  2.26it/s]\n"
     ]
    }
   ],
   "metadata": {}
  },
  {
   "cell_type": "code",
   "execution_count": 4,
   "source": [
    "kmeans = KMeans(n_clusters = 500, n_init=10)\n",
    "k = kmeans.fit_predict(descriptors)"
   ],
   "outputs": [],
   "metadata": {}
  },
  {
   "cell_type": "code",
   "execution_count": null,
   "source": [
    "n_images = len(images_dict)\n",
    "vocab_histogram = np.array([np.zeros(500) for i in range(n_images)])\n",
    "old_count = 0\n",
    "for i in range(n_images):\n",
    "    l = len(descriptors[i])\n",
    "    for j in range(l):\n",
    "        idx = k[old_count+j]\n",
    "        vocab_histogram[i][idx] += 1\n",
    "    old_count += l"
   ],
   "outputs": [],
   "metadata": {}
  },
  {
   "cell_type": "code",
   "execution_count": null,
   "source": [
    "from sklearn.preprocessing import StandardScaler\n",
    "vocab_histogram = StandardScaler().fit_transform(vocab_histogram)"
   ],
   "outputs": [],
   "metadata": {}
  },
  {
   "cell_type": "code",
   "execution_count": null,
   "source": [
    "test_images = []\n",
    "for img_path in os.listdir('./data/queries_validation'):\n",
    "    if img_path.endswith(\".jpg\"):\n",
    "        img = cv.resize(cv.imread( \"./data/queries_validation/\" + img_path,0), (500,500))\n",
    "        test_images.append(img)"
   ],
   "outputs": [],
   "metadata": {}
  },
  {
   "cell_type": "code",
   "execution_count": null,
   "source": [
    "test_histogram = np.array([np.zeros(500) for _ in range(len(test_images))])\n",
    "old_count = 0\n",
    "for image in test_images:\n",
    "    _,desc = sift.detectAndCompute(image, None)\n",
    "    l = len(desc)\n",
    "    for j in range(l):\n",
    "        idx = k[old_count+j]\n",
    "        test_histogram[i][idx] += 1\n",
    "    old_count += l"
   ],
   "outputs": [],
   "metadata": {}
  },
  {
   "cell_type": "code",
   "execution_count": null,
   "source": [
    "print(k)"
   ],
   "outputs": [
    {
     "output_type": "stream",
     "name": "stdout",
     "text": [
      "[369 135  43 ...  10 432 358]\n"
     ]
    }
   ],
   "metadata": {}
  },
  {
   "cell_type": "code",
   "execution_count": null,
   "source": [
    "def image_class(all_bovw, centers):\n",
    "    dict_feature = {}\n",
    "    for key,value in all_bovw.items():\n",
    "        category = []\n",
    "        for img in value:\n",
    "            histogram = cv.calcHist([img],[0],None,[256],[0,256])\n",
    "            category.append(histogram)\n",
    "        dict_feature[key] = category\n",
    "    return dict_feature"
   ],
   "outputs": [],
   "metadata": {}
  },
  {
   "cell_type": "code",
   "execution_count": null,
   "source": [
    "def knn(images, tests):\n",
    "    num_test = 0\n",
    "    correct_predict = 0\n",
    "    class_based = {}\n",
    "    \n",
    "    for test_key, test_val in tests.items():\n",
    "        class_based[test_key] = [0, 0]\n",
    "        for tst in test_val:\n",
    "            predict_start = 0\n",
    "            minimum = 0\n",
    "            key = \"a\" #predicted\n",
    "            for train_key, train_val in images.items():\n",
    "                for train in train_val:\n",
    "                    if(predict_start == 0):\n",
    "                        minimum = distance.euclidean(tst, train)\n",
    "                        key = train_key\n",
    "                        predict_start += 1\n",
    "                    else:\n",
    "                        dist = distance.euclidean(tst, train)\n",
    "                        if dist < minimum:\n",
    "                            minimum = dist\n",
    "                            key = train_key\n",
    "            \n",
    "            if(test_key == key):\n",
    "                correct_predict += 1\n",
    "                class_based[test_key][0] += 1\n",
    "            num_test += 1\n",
    "            class_based[test_key][1] += 1\n",
    "    return [num_test, correct_predict, class_based]"
   ],
   "outputs": [],
   "metadata": {
    "tags": []
   }
  },
  {
   "cell_type": "code",
   "execution_count": null,
   "source": [
    "from glob import glob\n",
    "test_images = [cv.calcHist([cv.resize(cv.imread(f\"./data/queries_validation/{i+1}_11.jpg\"), (500, 500))],[0],None,[256],[0,256]) for i in range(50)]\n"
   ],
   "outputs": [],
   "metadata": {}
  }
 ]
}